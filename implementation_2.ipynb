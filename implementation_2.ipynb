{
  "nbformat": 4,
  "nbformat_minor": 0,
  "metadata": {
    "colab": {
      "name": "implementation_2.ipynb",
      "provenance": [],
      "collapsed_sections": []
    },
    "kernelspec": {
      "name": "python3",
      "display_name": "Python 3"
    }
  },
  "cells": [
    {
      "cell_type": "code",
      "metadata": {
        "id": "IO_VZh_7TOXK",
        "trusted": false,
        "colab_type": "code",
        "colab": {
          "base_uri": "https://localhost:8080/",
          "height": 34
        },
        "outputId": "073677d0-bb54-4c9f-c85b-f72fd380ff7b"
      },
      "source": [
        "import numpy as np\n",
        "import pandas as pd\n",
        "from pathlib import Path\n",
        "from math import radians, cos, sin, asin, sqrt\n",
        "import datetime as dt\n",
        "from sklearn.pipeline import Pipeline\n",
        "from sklearn.impute import SimpleImputer\n",
        "from sklearn.preprocessing import StandardScaler, OneHotEncoder\n",
        "from sklearn.compose import ColumnTransformer\n",
        "from sklearn.linear_model import LogisticRegression\n",
        "from sklearn.ensemble import RandomForestClassifier\n",
        "from xgboost import XGBClassifier\n",
        "from sklearn.metrics import f1_score\n",
        "from sklearn.model_selection import train_test_split\n",
        "from sklearn.neural_network import MLPClassifier\n",
        "from sklearn.ensemble import StackingClassifier\n",
        "\n",
        "\n",
        "pd.set_option(\"display.max_columns\", 100)\n",
        "\n",
        "#mount google drive folder\n",
        "from google.colab import drive\n",
        "drive.mount('/content/gdrive')\n",
        "data_path = \"/content/gdrive/My Drive/FareClassification/\"\n",
        "\n",
        "#read csv files\n",
        "train_df = pd.read_csv(data_path + \"train.csv\", index_col=\"tripid\" )\n",
        "test_df = pd.read_csv(data_path + \"test.csv\",  index_col=\"tripid\" )"
      ],
      "execution_count": null,
      "outputs": [
        {
          "output_type": "stream",
          "text": [
            "Drive already mounted at /content/gdrive; to attempt to forcibly remount, call drive.mount(\"/content/gdrive\", force_remount=True).\n"
          ],
          "name": "stdout"
        }
      ]
    },
    {
      "cell_type": "markdown",
      "metadata": {
        "id": "R_JM02zt6nwj",
        "colab_type": "text"
      },
      "source": [
        "1.Preprocessing & Feature Engineering\n",
        "\n",
        "\n"
      ]
    },
    {
      "cell_type": "code",
      "metadata": {
        "id": "sTLGJ0wqRQ6B",
        "colab_type": "code",
        "colab": {
          "base_uri": "https://localhost:8080/",
          "height": 252
        },
        "outputId": "8076294e-a2fa-4823-e468-3e44bed32e13"
      },
      "source": [
        "train_df.isnull().sum() #check for missing values"
      ],
      "execution_count": null,
      "outputs": [
        {
          "output_type": "execute_result",
          "data": {
            "text/plain": [
              "additional_fare              202\n",
              "duration                     202\n",
              "meter_waiting                202\n",
              "meter_waiting_fare           202\n",
              "meter_waiting_till_pickup    202\n",
              "pickup_time                    0\n",
              "drop_time                      0\n",
              "pick_lat                       0\n",
              "pick_lon                       0\n",
              "drop_lat                       0\n",
              "drop_lon                       0\n",
              "fare                         137\n",
              "label                          0\n",
              "dtype: int64"
            ]
          },
          "metadata": {
            "tags": []
          },
          "execution_count": 16
        }
      ]
    },
    {
      "cell_type": "code",
      "metadata": {
        "id": "jzvKD3asdW7h",
        "colab_type": "code",
        "colab": {
          "base_uri": "https://localhost:8080/",
          "height": 225
        },
        "outputId": "5246807b-54fb-4821-a91c-8d32dd71f27d"
      },
      "source": [
        "#fill missing values of \"duration\" column using \"drop_time\" and \"pickup time\"\n",
        "train_df['calculated_duration'] = (pd.to_datetime(train_df['drop_time']) - pd.to_datetime(train_df['pickup_time']))/np.timedelta64(1,'s')\n",
        "train_df['duration'] = train_df['duration'].fillna(train_df ['calculated_duration'])\n",
        "train_df = train_df.drop(train_df[['calculated_duration','pickup_time','drop_time']], axis=1) #drop \"drop_time\" and \"pickup time\" column\n",
        "train_df.head()"
      ],
      "execution_count": null,
      "outputs": [
        {
          "output_type": "execute_result",
          "data": {
            "text/html": [
              "<div>\n",
              "<style scoped>\n",
              "    .dataframe tbody tr th:only-of-type {\n",
              "        vertical-align: middle;\n",
              "    }\n",
              "\n",
              "    .dataframe tbody tr th {\n",
              "        vertical-align: top;\n",
              "    }\n",
              "\n",
              "    .dataframe thead th {\n",
              "        text-align: right;\n",
              "    }\n",
              "</style>\n",
              "<table border=\"1\" class=\"dataframe\">\n",
              "  <thead>\n",
              "    <tr style=\"text-align: right;\">\n",
              "      <th></th>\n",
              "      <th>additional_fare</th>\n",
              "      <th>duration</th>\n",
              "      <th>meter_waiting</th>\n",
              "      <th>meter_waiting_fare</th>\n",
              "      <th>meter_waiting_till_pickup</th>\n",
              "      <th>pick_lat</th>\n",
              "      <th>pick_lon</th>\n",
              "      <th>drop_lat</th>\n",
              "      <th>drop_lon</th>\n",
              "      <th>fare</th>\n",
              "      <th>label</th>\n",
              "    </tr>\n",
              "    <tr>\n",
              "      <th>tripid</th>\n",
              "      <th></th>\n",
              "      <th></th>\n",
              "      <th></th>\n",
              "      <th></th>\n",
              "      <th></th>\n",
              "      <th></th>\n",
              "      <th></th>\n",
              "      <th></th>\n",
              "      <th></th>\n",
              "      <th></th>\n",
              "      <th></th>\n",
              "    </tr>\n",
              "  </thead>\n",
              "  <tbody>\n",
              "    <tr>\n",
              "      <th>189123628</th>\n",
              "      <td>10.5</td>\n",
              "      <td>834.0</td>\n",
              "      <td>56.0</td>\n",
              "      <td>0.0000</td>\n",
              "      <td>64.0</td>\n",
              "      <td>6.86252</td>\n",
              "      <td>79.8993</td>\n",
              "      <td>6.90330</td>\n",
              "      <td>79.8783</td>\n",
              "      <td>270.32</td>\n",
              "      <td>correct</td>\n",
              "    </tr>\n",
              "    <tr>\n",
              "      <th>189125358</th>\n",
              "      <td>10.5</td>\n",
              "      <td>791.0</td>\n",
              "      <td>47.0</td>\n",
              "      <td>0.0000</td>\n",
              "      <td>134.0</td>\n",
              "      <td>6.88589</td>\n",
              "      <td>79.8984</td>\n",
              "      <td>6.91373</td>\n",
              "      <td>79.8923</td>\n",
              "      <td>197.85</td>\n",
              "      <td>correct</td>\n",
              "    </tr>\n",
              "    <tr>\n",
              "      <th>189125719</th>\n",
              "      <td>10.5</td>\n",
              "      <td>1087.0</td>\n",
              "      <td>80.0</td>\n",
              "      <td>0.0000</td>\n",
              "      <td>61.0</td>\n",
              "      <td>6.90839</td>\n",
              "      <td>79.8651</td>\n",
              "      <td>6.93669</td>\n",
              "      <td>79.9146</td>\n",
              "      <td>301.64</td>\n",
              "      <td>correct</td>\n",
              "    </tr>\n",
              "    <tr>\n",
              "      <th>189127273</th>\n",
              "      <td>10.5</td>\n",
              "      <td>598.0</td>\n",
              "      <td>271.0</td>\n",
              "      <td>15.6638</td>\n",
              "      <td>68.0</td>\n",
              "      <td>6.92570</td>\n",
              "      <td>79.8895</td>\n",
              "      <td>6.92748</td>\n",
              "      <td>79.8971</td>\n",
              "      <td>82.30</td>\n",
              "      <td>correct</td>\n",
              "    </tr>\n",
              "    <tr>\n",
              "      <th>189128020</th>\n",
              "      <td>NaN</td>\n",
              "      <td>1020.0</td>\n",
              "      <td>NaN</td>\n",
              "      <td>NaN</td>\n",
              "      <td>NaN</td>\n",
              "      <td>6.87441</td>\n",
              "      <td>79.8615</td>\n",
              "      <td>6.84478</td>\n",
              "      <td>79.9290</td>\n",
              "      <td>358.39</td>\n",
              "      <td>correct</td>\n",
              "    </tr>\n",
              "  </tbody>\n",
              "</table>\n",
              "</div>"
            ],
            "text/plain": [
              "           additional_fare  duration  meter_waiting  meter_waiting_fare  \\\n",
              "tripid                                                                    \n",
              "189123628             10.5     834.0           56.0              0.0000   \n",
              "189125358             10.5     791.0           47.0              0.0000   \n",
              "189125719             10.5    1087.0           80.0              0.0000   \n",
              "189127273             10.5     598.0          271.0             15.6638   \n",
              "189128020              NaN    1020.0            NaN                 NaN   \n",
              "\n",
              "           meter_waiting_till_pickup  pick_lat  pick_lon  drop_lat  drop_lon  \\\n",
              "tripid                                                                         \n",
              "189123628                       64.0   6.86252   79.8993   6.90330   79.8783   \n",
              "189125358                      134.0   6.88589   79.8984   6.91373   79.8923   \n",
              "189125719                       61.0   6.90839   79.8651   6.93669   79.9146   \n",
              "189127273                       68.0   6.92570   79.8895   6.92748   79.8971   \n",
              "189128020                        NaN   6.87441   79.8615   6.84478   79.9290   \n",
              "\n",
              "             fare    label  \n",
              "tripid                      \n",
              "189123628  270.32  correct  \n",
              "189125358  197.85  correct  \n",
              "189125719  301.64  correct  \n",
              "189127273   82.30  correct  \n",
              "189128020  358.39  correct  "
            ]
          },
          "metadata": {
            "tags": []
          },
          "execution_count": 17
        }
      ]
    },
    {
      "cell_type": "code",
      "metadata": {
        "id": "Nxlnt7l0dzDV",
        "colab_type": "code",
        "colab": {
          "base_uri": "https://localhost:8080/",
          "height": 218
        },
        "outputId": "4bfebdb4-c2b1-4bd0-8bdd-6ba1f10e34f4"
      },
      "source": [
        "train_df.isnull().sum()"
      ],
      "execution_count": null,
      "outputs": [
        {
          "output_type": "execute_result",
          "data": {
            "text/plain": [
              "additional_fare              202\n",
              "duration                       0\n",
              "meter_waiting                202\n",
              "meter_waiting_fare           202\n",
              "meter_waiting_till_pickup    202\n",
              "pick_lat                       0\n",
              "pick_lon                       0\n",
              "drop_lat                       0\n",
              "drop_lon                       0\n",
              "fare                         137\n",
              "label                          0\n",
              "dtype: int64"
            ]
          },
          "metadata": {
            "tags": []
          },
          "execution_count": 18
        }
      ]
    },
    {
      "cell_type": "code",
      "metadata": {
        "id": "pCNyX-xBdKyj",
        "colab_type": "code",
        "colab": {}
      },
      "source": [
        "#fill missing values by taking the mean of correct & incorrect labels seperately\n",
        "correct = []\n",
        "incorrect =[]\n",
        "for value in train_df.values:\n",
        "  if value[-1] == 'correct':\n",
        "    correct.append(value)\n",
        "  else:\n",
        "    incorrect.append(value)\n",
        "    \n",
        "correct = pd.DataFrame(correct,columns=train_df.columns)\n",
        "incorrect = pd.DataFrame(incorrect,columns=train_df.columns)\n",
        "\n",
        "correct = correct.fillna(correct.mean())\n",
        "incorrect = incorrect.fillna(incorrect.mean())\n",
        "train_df = pd.concat([correct,incorrect])"
      ],
      "execution_count": null,
      "outputs": []
    },
    {
      "cell_type": "code",
      "metadata": {
        "id": "Hq-20th1RW-1",
        "colab_type": "code",
        "colab": {
          "base_uri": "https://localhost:8080/",
          "height": 218
        },
        "outputId": "11f18d54-098d-4803-d65b-18bbb4f5c116"
      },
      "source": [
        "train_df.isnull().sum()"
      ],
      "execution_count": null,
      "outputs": [
        {
          "output_type": "execute_result",
          "data": {
            "text/plain": [
              "additional_fare              0\n",
              "duration                     0\n",
              "meter_waiting                0\n",
              "meter_waiting_fare           0\n",
              "meter_waiting_till_pickup    0\n",
              "pick_lat                     0\n",
              "pick_lon                     0\n",
              "drop_lat                     0\n",
              "drop_lon                     0\n",
              "fare                         0\n",
              "label                        0\n",
              "dtype: int64"
            ]
          },
          "metadata": {
            "tags": []
          },
          "execution_count": 20
        }
      ]
    },
    {
      "cell_type": "code",
      "metadata": {
        "id": "d_3YoVeGNv0-",
        "colab_type": "code",
        "colab": {
          "base_uri": "https://localhost:8080/",
          "height": 195
        },
        "outputId": "d62aadbc-216e-4904-fcc7-89c34a5c131c"
      },
      "source": [
        "dataset_map = {\"incorrect\": 0, \"correct\":1} \n",
        "train_df['label'] = train_df[\"label\"].map(dataset_map) #convert \"label\" column to binary values\n",
        "train_df.head()"
      ],
      "execution_count": null,
      "outputs": [
        {
          "output_type": "execute_result",
          "data": {
            "text/html": [
              "<div>\n",
              "<style scoped>\n",
              "    .dataframe tbody tr th:only-of-type {\n",
              "        vertical-align: middle;\n",
              "    }\n",
              "\n",
              "    .dataframe tbody tr th {\n",
              "        vertical-align: top;\n",
              "    }\n",
              "\n",
              "    .dataframe thead th {\n",
              "        text-align: right;\n",
              "    }\n",
              "</style>\n",
              "<table border=\"1\" class=\"dataframe\">\n",
              "  <thead>\n",
              "    <tr style=\"text-align: right;\">\n",
              "      <th></th>\n",
              "      <th>additional_fare</th>\n",
              "      <th>duration</th>\n",
              "      <th>meter_waiting</th>\n",
              "      <th>meter_waiting_fare</th>\n",
              "      <th>meter_waiting_till_pickup</th>\n",
              "      <th>pick_lat</th>\n",
              "      <th>pick_lon</th>\n",
              "      <th>drop_lat</th>\n",
              "      <th>drop_lon</th>\n",
              "      <th>fare</th>\n",
              "      <th>label</th>\n",
              "    </tr>\n",
              "  </thead>\n",
              "  <tbody>\n",
              "    <tr>\n",
              "      <th>0</th>\n",
              "      <td>10.50000</td>\n",
              "      <td>834.0</td>\n",
              "      <td>56.000000</td>\n",
              "      <td>0.000000</td>\n",
              "      <td>64.000000</td>\n",
              "      <td>6.86252</td>\n",
              "      <td>79.8993</td>\n",
              "      <td>6.90330</td>\n",
              "      <td>79.8783</td>\n",
              "      <td>270.32</td>\n",
              "      <td>1</td>\n",
              "    </tr>\n",
              "    <tr>\n",
              "      <th>1</th>\n",
              "      <td>10.50000</td>\n",
              "      <td>791.0</td>\n",
              "      <td>47.000000</td>\n",
              "      <td>0.000000</td>\n",
              "      <td>134.000000</td>\n",
              "      <td>6.88589</td>\n",
              "      <td>79.8984</td>\n",
              "      <td>6.91373</td>\n",
              "      <td>79.8923</td>\n",
              "      <td>197.85</td>\n",
              "      <td>1</td>\n",
              "    </tr>\n",
              "    <tr>\n",
              "      <th>2</th>\n",
              "      <td>10.50000</td>\n",
              "      <td>1087.0</td>\n",
              "      <td>80.000000</td>\n",
              "      <td>0.000000</td>\n",
              "      <td>61.000000</td>\n",
              "      <td>6.90839</td>\n",
              "      <td>79.8651</td>\n",
              "      <td>6.93669</td>\n",
              "      <td>79.9146</td>\n",
              "      <td>301.64</td>\n",
              "      <td>1</td>\n",
              "    </tr>\n",
              "    <tr>\n",
              "      <th>3</th>\n",
              "      <td>10.50000</td>\n",
              "      <td>598.0</td>\n",
              "      <td>271.000000</td>\n",
              "      <td>15.663800</td>\n",
              "      <td>68.000000</td>\n",
              "      <td>6.92570</td>\n",
              "      <td>79.8895</td>\n",
              "      <td>6.92748</td>\n",
              "      <td>79.8971</td>\n",
              "      <td>82.30</td>\n",
              "      <td>1</td>\n",
              "    </tr>\n",
              "    <tr>\n",
              "      <th>4</th>\n",
              "      <td>12.44434</td>\n",
              "      <td>1020.0</td>\n",
              "      <td>356.655679</td>\n",
              "      <td>16.909938</td>\n",
              "      <td>107.549152</td>\n",
              "      <td>6.87441</td>\n",
              "      <td>79.8615</td>\n",
              "      <td>6.84478</td>\n",
              "      <td>79.9290</td>\n",
              "      <td>358.39</td>\n",
              "      <td>1</td>\n",
              "    </tr>\n",
              "  </tbody>\n",
              "</table>\n",
              "</div>"
            ],
            "text/plain": [
              "   additional_fare  duration  meter_waiting  meter_waiting_fare  \\\n",
              "0         10.50000     834.0      56.000000            0.000000   \n",
              "1         10.50000     791.0      47.000000            0.000000   \n",
              "2         10.50000    1087.0      80.000000            0.000000   \n",
              "3         10.50000     598.0     271.000000           15.663800   \n",
              "4         12.44434    1020.0     356.655679           16.909938   \n",
              "\n",
              "   meter_waiting_till_pickup  pick_lat  pick_lon  drop_lat  drop_lon    fare  \\\n",
              "0                  64.000000   6.86252   79.8993   6.90330   79.8783  270.32   \n",
              "1                 134.000000   6.88589   79.8984   6.91373   79.8923  197.85   \n",
              "2                  61.000000   6.90839   79.8651   6.93669   79.9146  301.64   \n",
              "3                  68.000000   6.92570   79.8895   6.92748   79.8971   82.30   \n",
              "4                 107.549152   6.87441   79.8615   6.84478   79.9290  358.39   \n",
              "\n",
              "   label  \n",
              "0      1  \n",
              "1      1  \n",
              "2      1  \n",
              "3      1  \n",
              "4      1  "
            ]
          },
          "metadata": {
            "tags": []
          },
          "execution_count": 21
        }
      ]
    },
    {
      "cell_type": "code",
      "metadata": {
        "id": "quuVyySjUBvn",
        "colab_type": "code",
        "colab": {
          "base_uri": "https://localhost:8080/",
          "height": 195
        },
        "outputId": "3dbcdef1-e80d-4b68-a566-326433e59be4"
      },
      "source": [
        "def calc_haversine(lon1, lat1, lon2, lat2):\n",
        "    #convert decimal degrees to radians\n",
        "    lon1, lat1, lon2, lat2 = map(np.radians, [lon1, lat1, lon2, lat2]) \n",
        "\n",
        "    # haversine formula\n",
        "    dlon = lon2 - lon1 \n",
        "    dlat = lat2 - lat1 \n",
        "    a = np.sin(dlat/2)**2 + np.cos(lat1) * np.cos(lat2) * np.sin(dlon/2)**2\n",
        "    c = 2 * np.arcsin(np.sqrt(a)) \n",
        "    r = 6371\n",
        "    haversine_distance = c * r\n",
        "    return haversine_distance\n",
        "\n",
        "#create new column \"distance\" using havesine distance\n",
        "train_df['distance'] = calc_haversine(train_df['pick_lat'], train_df['pick_lon'], train_df['drop_lat'] , train_df['drop_lon'])\n",
        "train_df = train_df.drop(train_df[['pick_lat','pick_lon','drop_lat','drop_lon']], axis=1) #drop columns\n",
        "train_df.head()"
      ],
      "execution_count": null,
      "outputs": [
        {
          "output_type": "execute_result",
          "data": {
            "text/html": [
              "<div>\n",
              "<style scoped>\n",
              "    .dataframe tbody tr th:only-of-type {\n",
              "        vertical-align: middle;\n",
              "    }\n",
              "\n",
              "    .dataframe tbody tr th {\n",
              "        vertical-align: top;\n",
              "    }\n",
              "\n",
              "    .dataframe thead th {\n",
              "        text-align: right;\n",
              "    }\n",
              "</style>\n",
              "<table border=\"1\" class=\"dataframe\">\n",
              "  <thead>\n",
              "    <tr style=\"text-align: right;\">\n",
              "      <th></th>\n",
              "      <th>additional_fare</th>\n",
              "      <th>duration</th>\n",
              "      <th>meter_waiting</th>\n",
              "      <th>meter_waiting_fare</th>\n",
              "      <th>meter_waiting_till_pickup</th>\n",
              "      <th>fare</th>\n",
              "      <th>label</th>\n",
              "      <th>distance</th>\n",
              "    </tr>\n",
              "  </thead>\n",
              "  <tbody>\n",
              "    <tr>\n",
              "      <th>0</th>\n",
              "      <td>10.50000</td>\n",
              "      <td>834.0</td>\n",
              "      <td>56.000000</td>\n",
              "      <td>0.000000</td>\n",
              "      <td>64.000000</td>\n",
              "      <td>270.32</td>\n",
              "      <td>1</td>\n",
              "      <td>2.467063</td>\n",
              "    </tr>\n",
              "    <tr>\n",
              "      <th>1</th>\n",
              "      <td>10.50000</td>\n",
              "      <td>791.0</td>\n",
              "      <td>47.000000</td>\n",
              "      <td>0.000000</td>\n",
              "      <td>134.000000</td>\n",
              "      <td>197.85</td>\n",
              "      <td>1</td>\n",
              "      <td>0.868942</td>\n",
              "    </tr>\n",
              "    <tr>\n",
              "      <th>2</th>\n",
              "      <td>10.50000</td>\n",
              "      <td>1087.0</td>\n",
              "      <td>80.000000</td>\n",
              "      <td>0.000000</td>\n",
              "      <td>61.000000</td>\n",
              "      <td>301.64</td>\n",
              "      <td>1</td>\n",
              "      <td>5.531798</td>\n",
              "    </tr>\n",
              "    <tr>\n",
              "      <th>3</th>\n",
              "      <td>10.50000</td>\n",
              "      <td>598.0</td>\n",
              "      <td>271.000000</td>\n",
              "      <td>15.663800</td>\n",
              "      <td>68.000000</td>\n",
              "      <td>82.30</td>\n",
              "      <td>1</td>\n",
              "      <td>0.845795</td>\n",
              "    </tr>\n",
              "    <tr>\n",
              "      <th>4</th>\n",
              "      <td>12.44434</td>\n",
              "      <td>1020.0</td>\n",
              "      <td>356.655679</td>\n",
              "      <td>16.909938</td>\n",
              "      <td>107.549152</td>\n",
              "      <td>358.39</td>\n",
              "      <td>1</td>\n",
              "      <td>7.527884</td>\n",
              "    </tr>\n",
              "  </tbody>\n",
              "</table>\n",
              "</div>"
            ],
            "text/plain": [
              "   additional_fare  duration  meter_waiting  meter_waiting_fare  \\\n",
              "0         10.50000     834.0      56.000000            0.000000   \n",
              "1         10.50000     791.0      47.000000            0.000000   \n",
              "2         10.50000    1087.0      80.000000            0.000000   \n",
              "3         10.50000     598.0     271.000000           15.663800   \n",
              "4         12.44434    1020.0     356.655679           16.909938   \n",
              "\n",
              "   meter_waiting_till_pickup    fare  label  distance  \n",
              "0                  64.000000  270.32      1  2.467063  \n",
              "1                 134.000000  197.85      1  0.868942  \n",
              "2                  61.000000  301.64      1  5.531798  \n",
              "3                  68.000000   82.30      1  0.845795  \n",
              "4                 107.549152  358.39      1  7.527884  "
            ]
          },
          "metadata": {
            "tags": []
          },
          "execution_count": 22
        }
      ]
    },
    {
      "cell_type": "code",
      "metadata": {
        "id": "HmceoM6nVUw_",
        "colab_type": "code",
        "colab": {}
      },
      "source": [
        "train_df = train_df.drop(train_df[['meter_waiting_till_pickup']], axis=1)"
      ],
      "execution_count": null,
      "outputs": []
    },
    {
      "cell_type": "code",
      "metadata": {
        "id": "zBM4J2efVE_z",
        "colab_type": "code",
        "colab": {
          "base_uri": "https://localhost:8080/",
          "height": 118
        },
        "outputId": "e38ee641-3ffa-41f6-808d-606e2600fc2d"
      },
      "source": [
        "X_train = train_df.drop(['label'],axis='columns')\n",
        "Y_train = train_df['label']\n",
        "Y_train.head()"
      ],
      "execution_count": null,
      "outputs": [
        {
          "output_type": "execute_result",
          "data": {
            "text/plain": [
              "0    1\n",
              "1    1\n",
              "2    1\n",
              "3    1\n",
              "4    1\n",
              "Name: label, dtype: int64"
            ]
          },
          "metadata": {
            "tags": []
          },
          "execution_count": 24
        }
      ]
    },
    {
      "cell_type": "code",
      "metadata": {
        "id": "WonFkGYxgrpZ",
        "colab_type": "code",
        "colab": {
          "base_uri": "https://localhost:8080/",
          "height": 136
        },
        "outputId": "fdaaf968-8af5-428d-9d3b-f26e1bf330dd"
      },
      "source": [
        "train_df.head(3)"
      ],
      "execution_count": null,
      "outputs": [
        {
          "output_type": "execute_result",
          "data": {
            "text/html": [
              "<div>\n",
              "<style scoped>\n",
              "    .dataframe tbody tr th:only-of-type {\n",
              "        vertical-align: middle;\n",
              "    }\n",
              "\n",
              "    .dataframe tbody tr th {\n",
              "        vertical-align: top;\n",
              "    }\n",
              "\n",
              "    .dataframe thead th {\n",
              "        text-align: right;\n",
              "    }\n",
              "</style>\n",
              "<table border=\"1\" class=\"dataframe\">\n",
              "  <thead>\n",
              "    <tr style=\"text-align: right;\">\n",
              "      <th></th>\n",
              "      <th>additional_fare</th>\n",
              "      <th>duration</th>\n",
              "      <th>meter_waiting</th>\n",
              "      <th>meter_waiting_fare</th>\n",
              "      <th>fare</th>\n",
              "      <th>label</th>\n",
              "      <th>distance</th>\n",
              "    </tr>\n",
              "  </thead>\n",
              "  <tbody>\n",
              "    <tr>\n",
              "      <th>0</th>\n",
              "      <td>10.5</td>\n",
              "      <td>834.0</td>\n",
              "      <td>56.0</td>\n",
              "      <td>0.0</td>\n",
              "      <td>270.32</td>\n",
              "      <td>1</td>\n",
              "      <td>2.467063</td>\n",
              "    </tr>\n",
              "    <tr>\n",
              "      <th>1</th>\n",
              "      <td>10.5</td>\n",
              "      <td>791.0</td>\n",
              "      <td>47.0</td>\n",
              "      <td>0.0</td>\n",
              "      <td>197.85</td>\n",
              "      <td>1</td>\n",
              "      <td>0.868942</td>\n",
              "    </tr>\n",
              "    <tr>\n",
              "      <th>2</th>\n",
              "      <td>10.5</td>\n",
              "      <td>1087.0</td>\n",
              "      <td>80.0</td>\n",
              "      <td>0.0</td>\n",
              "      <td>301.64</td>\n",
              "      <td>1</td>\n",
              "      <td>5.531798</td>\n",
              "    </tr>\n",
              "  </tbody>\n",
              "</table>\n",
              "</div>"
            ],
            "text/plain": [
              "   additional_fare  duration  meter_waiting  meter_waiting_fare    fare  \\\n",
              "0             10.5     834.0           56.0                 0.0  270.32   \n",
              "1             10.5     791.0           47.0                 0.0  197.85   \n",
              "2             10.5    1087.0           80.0                 0.0  301.64   \n",
              "\n",
              "   label  distance  \n",
              "0      1  2.467063  \n",
              "1      1  0.868942  \n",
              "2      1  5.531798  "
            ]
          },
          "metadata": {
            "tags": []
          },
          "execution_count": 25
        }
      ]
    },
    {
      "cell_type": "markdown",
      "metadata": {
        "id": "9M8r3tak7GX0",
        "colab_type": "text"
      },
      "source": [
        "2.Model creation & Training"
      ]
    },
    {
      "cell_type": "code",
      "metadata": {
        "id": "5ykVEXuNyz4B",
        "colab_type": "code",
        "colab": {
          "base_uri": "https://localhost:8080/",
          "height": 84
        },
        "outputId": "c0af7ea7-fa93-4680-dd4e-b4b2dfa917a1"
      },
      "source": [
        "random_grid = {'n_estimators': range(100,500,100),\n",
        "               'max_depth': range(5,20,1),\n",
        "               'min_samples_leaf':range(2,5,1),\n",
        "              'max_features':['auto','sqrt','log2'],\n",
        "              'bootstrap': [True, False],\n",
        "              'min_samples_split': range(2,5,1)}\n",
        "\n",
        "rforest = RandomForestClassifier()\n",
        "xgb_= XGBClassifier()\n",
        "\n",
        "rfcv = RandomizedSearchCV(rforest, random_grid,cv=5)\n",
        "xgbcv = RandomizedSearchCV(xgb_, random_grid,cv=5)\n",
        "\n",
        "rfcv.fit(X_train, Y_train)\n",
        "xgbcv.fit(X_train, Y_train)\n",
        "\n",
        "# Print the tuned parameters and score\n",
        "print(\"Tuned Parameters for random forest: {}\".format(rfcv.best_params_))\n",
        "print(\"Best score for random forest is {}\".format(rfcv.best_score_))\n",
        "print(\"Tuned Parameters for xgboost: {}\".format(xgbcv.best_params_))\n",
        "print(\"Best score for xgboost is {}\".format(xgbcv.best_score_))\n"
      ],
      "execution_count": null,
      "outputs": [
        {
          "output_type": "stream",
          "text": [
            "Tuned Parameters for random forest: {'n_estimators': 100, 'min_samples_split': 3, 'min_samples_leaf': 2, 'max_features': 'sqrt', 'max_depth': 18, 'bootstrap': False}\n",
            "Best score for random forest is 0.9441659253083626\n",
            "Tuned Parameters for xgboost: {'n_estimators': 200, 'min_samples_split': 4, 'min_samples_leaf': 4, 'max_features': 'auto', 'max_depth': 13, 'bootstrap': False}\n",
            "Best score for xgboost is 0.9450975119168052\n"
          ],
          "name": "stdout"
        }
      ]
    },
    {
      "cell_type": "code",
      "metadata": {
        "trusted": false,
        "colab_type": "code",
        "id": "pBHXljbFHbSf",
        "colab": {}
      },
      "source": [
        "numeric_transformer = Pipeline(steps=[\n",
        "    ('imputer', SimpleImputer(strategy='mean')),\n",
        "    ('scaler', StandardScaler())])\n",
        "\n",
        "numeric_features = train_df.select_dtypes(include=['int64', 'float64']).drop(['label'], axis=1).columns\n",
        "\n",
        "preprocessor = ColumnTransformer(\n",
        "    transformers=[\n",
        "        ('num', numeric_transformer, numeric_features)])\n",
        "\n",
        "level_zero = list()\n",
        "level_zero.append(('xg',XGBClassifier(n_estimators=550,subsample=0.14))) \n",
        "level_zero.append(('mlp',MLPClassifier(hidden_layer_sizes=(50,100,50), max_iter=1000)))\n",
        "level_zero.append(('dt', RandomForestClassifier(n_estimators = 100, max_features = 'log2')))\n",
        "level_one = LogisticRegression(penalty=\"l2\", C=3)\n",
        " \n",
        "estimator = StackingClassifier(estimators=level_zero, final_estimator=level_one, cv=10)\n",
        "\n",
        "pipe = Pipeline(steps=[('preprocessor', preprocessor),\n",
        "                      ('classifier', estimator)])"
      ],
      "execution_count": null,
      "outputs": []
    },
    {
      "cell_type": "code",
      "metadata": {
        "id": "BtT9Gqs7m3zZ",
        "colab_type": "code",
        "colab": {}
      },
      "source": [
        "x_train, x_eval, y_eval, y_eval = train_test_split(X_train, Y_train, test_size=0.25,stratify=Y_train)"
      ],
      "execution_count": null,
      "outputs": []
    },
    {
      "cell_type": "code",
      "metadata": {
        "id": "wV4DtsVYm7v7",
        "colab_type": "code",
        "colab": {}
      },
      "source": [
        "pipe.fit(x_eval, y_eval)\n",
        "y_pred = pipe.predict(x_eval)"
      ],
      "execution_count": null,
      "outputs": []
    },
    {
      "cell_type": "code",
      "metadata": {
        "id": "-jf2UgGdpA2E",
        "trusted": false,
        "colab_type": "code",
        "colab": {
          "base_uri": "https://localhost:8080/",
          "height": 34
        },
        "outputId": "a15d1cea-e6b0-4999-b4fa-c59df863e51c"
      },
      "source": [
        "f1_score(y_eval, y_pred,average='weighted')"
      ],
      "execution_count": null,
      "outputs": [
        {
          "output_type": "execute_result",
          "data": {
            "text/plain": [
              "0.9665168822805305"
            ]
          },
          "metadata": {
            "tags": []
          },
          "execution_count": 29
        }
      ]
    },
    {
      "cell_type": "code",
      "metadata": {
        "id": "x8r5e4XRpD25",
        "trusted": false,
        "colab_type": "code",
        "colab": {
          "base_uri": "https://localhost:8080/",
          "height": 638
        },
        "outputId": "19711156-aa62-4537-af58-4b3be5a244a9"
      },
      "source": [
        "pipe.fit(X_train,Y_train)"
      ],
      "execution_count": null,
      "outputs": [
        {
          "output_type": "execute_result",
          "data": {
            "text/plain": [
              "Pipeline(memory=None,\n",
              "         steps=[('preprocessor',\n",
              "                 ColumnTransformer(n_jobs=None, remainder='drop',\n",
              "                                   sparse_threshold=0.3,\n",
              "                                   transformer_weights=None,\n",
              "                                   transformers=[('num',\n",
              "                                                  Pipeline(memory=None,\n",
              "                                                           steps=[('imputer',\n",
              "                                                                   SimpleImputer(add_indicator=False,\n",
              "                                                                                 copy=True,\n",
              "                                                                                 fill_value=None,\n",
              "                                                                                 missing_values=nan,\n",
              "                                                                                 strategy='mean',\n",
              "                                                                                 verbose=0)),\n",
              "                                                                  ('scaler',\n",
              "                                                                   StandardScaler(copy=True,\n",
              "                                                                                  with_mean=T...\n",
              "                                                                        verbose=0,\n",
              "                                                                        warm_start=False))],\n",
              "                                    final_estimator=LogisticRegression(C=3,\n",
              "                                                                       class_weight=None,\n",
              "                                                                       dual=False,\n",
              "                                                                       fit_intercept=True,\n",
              "                                                                       intercept_scaling=1,\n",
              "                                                                       l1_ratio=None,\n",
              "                                                                       max_iter=100,\n",
              "                                                                       multi_class='auto',\n",
              "                                                                       n_jobs=None,\n",
              "                                                                       penalty='l2',\n",
              "                                                                       random_state=None,\n",
              "                                                                       solver='lbfgs',\n",
              "                                                                       tol=0.0001,\n",
              "                                                                       verbose=0,\n",
              "                                                                       warm_start=False),\n",
              "                                    n_jobs=None, passthrough=False,\n",
              "                                    stack_method='auto', verbose=0))],\n",
              "         verbose=False)"
            ]
          },
          "metadata": {
            "tags": []
          },
          "execution_count": 30
        }
      ]
    },
    {
      "cell_type": "markdown",
      "metadata": {
        "id": "eGSsWXV97WWF",
        "colab_type": "text"
      },
      "source": [
        "3.Test Data Preprocessing"
      ]
    },
    {
      "cell_type": "code",
      "metadata": {
        "id": "FZfnhq6vWyR3",
        "colab_type": "code",
        "colab": {
          "base_uri": "https://localhost:8080/",
          "height": 225
        },
        "outputId": "1517ef20-fc46-4458-b3c5-1d195df88088"
      },
      "source": [
        "test_df.head()"
      ],
      "execution_count": null,
      "outputs": [
        {
          "output_type": "execute_result",
          "data": {
            "text/html": [
              "<div>\n",
              "<style scoped>\n",
              "    .dataframe tbody tr th:only-of-type {\n",
              "        vertical-align: middle;\n",
              "    }\n",
              "\n",
              "    .dataframe tbody tr th {\n",
              "        vertical-align: top;\n",
              "    }\n",
              "\n",
              "    .dataframe thead th {\n",
              "        text-align: right;\n",
              "    }\n",
              "</style>\n",
              "<table border=\"1\" class=\"dataframe\">\n",
              "  <thead>\n",
              "    <tr style=\"text-align: right;\">\n",
              "      <th></th>\n",
              "      <th>additional_fare</th>\n",
              "      <th>duration</th>\n",
              "      <th>meter_waiting</th>\n",
              "      <th>meter_waiting_fare</th>\n",
              "      <th>meter_waiting_till_pickup</th>\n",
              "      <th>pickup_time</th>\n",
              "      <th>drop_time</th>\n",
              "      <th>pick_lat</th>\n",
              "      <th>pick_lon</th>\n",
              "      <th>drop_lat</th>\n",
              "      <th>drop_lon</th>\n",
              "      <th>fare</th>\n",
              "    </tr>\n",
              "    <tr>\n",
              "      <th>tripid</th>\n",
              "      <th></th>\n",
              "      <th></th>\n",
              "      <th></th>\n",
              "      <th></th>\n",
              "      <th></th>\n",
              "      <th></th>\n",
              "      <th></th>\n",
              "      <th></th>\n",
              "      <th></th>\n",
              "      <th></th>\n",
              "      <th></th>\n",
              "      <th></th>\n",
              "    </tr>\n",
              "  </thead>\n",
              "  <tbody>\n",
              "    <tr>\n",
              "      <th>213284604</th>\n",
              "      <td>10.5</td>\n",
              "      <td>924</td>\n",
              "      <td>42</td>\n",
              "      <td>2.4486</td>\n",
              "      <td>148</td>\n",
              "      <td>2/1/2020 0:38</td>\n",
              "      <td>2/1/2020 0:53</td>\n",
              "      <td>6.83454</td>\n",
              "      <td>79.8750</td>\n",
              "      <td>6.77490</td>\n",
              "      <td>79.8840</td>\n",
              "      <td>289.27</td>\n",
              "    </tr>\n",
              "    <tr>\n",
              "      <th>213286352</th>\n",
              "      <td>10.5</td>\n",
              "      <td>4249</td>\n",
              "      <td>20</td>\n",
              "      <td>0.0000</td>\n",
              "      <td>91</td>\n",
              "      <td>2/1/2020 1:02</td>\n",
              "      <td>2/1/2020 2:13</td>\n",
              "      <td>6.91168</td>\n",
              "      <td>79.8723</td>\n",
              "      <td>6.55091</td>\n",
              "      <td>79.9706</td>\n",
              "      <td>1912.70</td>\n",
              "    </tr>\n",
              "    <tr>\n",
              "      <th>213293973</th>\n",
              "      <td>10.5</td>\n",
              "      <td>1552</td>\n",
              "      <td>255</td>\n",
              "      <td>2.6588</td>\n",
              "      <td>23</td>\n",
              "      <td>2/1/2020 5:02</td>\n",
              "      <td>2/1/2020 5:28</td>\n",
              "      <td>6.92145</td>\n",
              "      <td>79.8478</td>\n",
              "      <td>6.90539</td>\n",
              "      <td>79.8989</td>\n",
              "      <td>394.00</td>\n",
              "    </tr>\n",
              "    <tr>\n",
              "      <th>213294622</th>\n",
              "      <td>10.5</td>\n",
              "      <td>462</td>\n",
              "      <td>16</td>\n",
              "      <td>0.0000</td>\n",
              "      <td>198</td>\n",
              "      <td>2/1/2020 5:30</td>\n",
              "      <td>2/1/2020 5:38</td>\n",
              "      <td>6.77433</td>\n",
              "      <td>79.9416</td>\n",
              "      <td>6.80401</td>\n",
              "      <td>79.9407</td>\n",
              "      <td>154.32</td>\n",
              "    </tr>\n",
              "    <tr>\n",
              "      <th>213298687</th>\n",
              "      <td>10.5</td>\n",
              "      <td>814</td>\n",
              "      <td>392</td>\n",
              "      <td>12.3692</td>\n",
              "      <td>69</td>\n",
              "      <td>2/1/2020 7:00</td>\n",
              "      <td>2/1/2020 7:14</td>\n",
              "      <td>6.97968</td>\n",
              "      <td>79.9130</td>\n",
              "      <td>6.98875</td>\n",
              "      <td>79.8914</td>\n",
              "      <td>147.47</td>\n",
              "    </tr>\n",
              "  </tbody>\n",
              "</table>\n",
              "</div>"
            ],
            "text/plain": [
              "           additional_fare  duration  meter_waiting  meter_waiting_fare  \\\n",
              "tripid                                                                    \n",
              "213284604             10.5       924             42              2.4486   \n",
              "213286352             10.5      4249             20              0.0000   \n",
              "213293973             10.5      1552            255              2.6588   \n",
              "213294622             10.5       462             16              0.0000   \n",
              "213298687             10.5       814            392             12.3692   \n",
              "\n",
              "           meter_waiting_till_pickup    pickup_time      drop_time  pick_lat  \\\n",
              "tripid                                                                         \n",
              "213284604                        148  2/1/2020 0:38  2/1/2020 0:53   6.83454   \n",
              "213286352                         91  2/1/2020 1:02  2/1/2020 2:13   6.91168   \n",
              "213293973                         23  2/1/2020 5:02  2/1/2020 5:28   6.92145   \n",
              "213294622                        198  2/1/2020 5:30  2/1/2020 5:38   6.77433   \n",
              "213298687                         69  2/1/2020 7:00  2/1/2020 7:14   6.97968   \n",
              "\n",
              "           pick_lon  drop_lat  drop_lon     fare  \n",
              "tripid                                            \n",
              "213284604   79.8750   6.77490   79.8840   289.27  \n",
              "213286352   79.8723   6.55091   79.9706  1912.70  \n",
              "213293973   79.8478   6.90539   79.8989   394.00  \n",
              "213294622   79.9416   6.80401   79.9407   154.32  \n",
              "213298687   79.9130   6.98875   79.8914   147.47  "
            ]
          },
          "metadata": {
            "tags": []
          },
          "execution_count": 31
        }
      ]
    },
    {
      "cell_type": "code",
      "metadata": {
        "id": "zHEu2vtXqd4b",
        "trusted": false,
        "colab_type": "code",
        "colab": {}
      },
      "source": [
        "test_df['distance'] = calc_haversine(test_df['pick_lat'], test_df['pick_lon'], test_df['drop_lat'] , test_df['drop_lon'])"
      ],
      "execution_count": null,
      "outputs": []
    },
    {
      "cell_type": "code",
      "metadata": {
        "id": "yrv_apNW7fOn",
        "colab_type": "code",
        "colab": {}
      },
      "source": [
        "test_df = test_df.drop(['pick_lat','pick_lon','drop_lat','drop_lon'],axis='columns')\n",
        "test_df = test_df.drop(['pickup_time','drop_time','meter_waiting_till_pickup'],axis='columns')"
      ],
      "execution_count": null,
      "outputs": []
    },
    {
      "cell_type": "code",
      "metadata": {
        "id": "5jshpmtM7zCW",
        "colab_type": "code",
        "colab": {
          "base_uri": "https://localhost:8080/",
          "height": 225
        },
        "outputId": "29107762-6011-4db9-b3e4-60b1494bb61f"
      },
      "source": [
        "test_df.head()"
      ],
      "execution_count": null,
      "outputs": [
        {
          "output_type": "execute_result",
          "data": {
            "text/html": [
              "<div>\n",
              "<style scoped>\n",
              "    .dataframe tbody tr th:only-of-type {\n",
              "        vertical-align: middle;\n",
              "    }\n",
              "\n",
              "    .dataframe tbody tr th {\n",
              "        vertical-align: top;\n",
              "    }\n",
              "\n",
              "    .dataframe thead th {\n",
              "        text-align: right;\n",
              "    }\n",
              "</style>\n",
              "<table border=\"1\" class=\"dataframe\">\n",
              "  <thead>\n",
              "    <tr style=\"text-align: right;\">\n",
              "      <th></th>\n",
              "      <th>additional_fare</th>\n",
              "      <th>duration</th>\n",
              "      <th>meter_waiting</th>\n",
              "      <th>meter_waiting_fare</th>\n",
              "      <th>fare</th>\n",
              "      <th>distance</th>\n",
              "    </tr>\n",
              "    <tr>\n",
              "      <th>tripid</th>\n",
              "      <th></th>\n",
              "      <th></th>\n",
              "      <th></th>\n",
              "      <th></th>\n",
              "      <th></th>\n",
              "      <th></th>\n",
              "    </tr>\n",
              "  </thead>\n",
              "  <tbody>\n",
              "    <tr>\n",
              "      <th>213284604</th>\n",
              "      <td>10.5</td>\n",
              "      <td>924</td>\n",
              "      <td>42</td>\n",
              "      <td>2.4486</td>\n",
              "      <td>289.27</td>\n",
              "      <td>1.536052</td>\n",
              "    </tr>\n",
              "    <tr>\n",
              "      <th>213286352</th>\n",
              "      <td>10.5</td>\n",
              "      <td>4249</td>\n",
              "      <td>20</td>\n",
              "      <td>0.0000</td>\n",
              "      <td>1912.70</td>\n",
              "      <td>12.990640</td>\n",
              "    </tr>\n",
              "    <tr>\n",
              "      <th>213293973</th>\n",
              "      <td>10.5</td>\n",
              "      <td>1552</td>\n",
              "      <td>255</td>\n",
              "      <td>2.6588</td>\n",
              "      <td>394.00</td>\n",
              "      <td>5.690729</td>\n",
              "    </tr>\n",
              "    <tr>\n",
              "      <th>213294622</th>\n",
              "      <td>10.5</td>\n",
              "      <td>462</td>\n",
              "      <td>16</td>\n",
              "      <td>0.0000</td>\n",
              "      <td>154.32</td>\n",
              "      <td>0.585046</td>\n",
              "    </tr>\n",
              "    <tr>\n",
              "      <th>213298687</th>\n",
              "      <td>10.5</td>\n",
              "      <td>814</td>\n",
              "      <td>392</td>\n",
              "      <td>12.3692</td>\n",
              "      <td>147.47</td>\n",
              "      <td>2.408311</td>\n",
              "    </tr>\n",
              "  </tbody>\n",
              "</table>\n",
              "</div>"
            ],
            "text/plain": [
              "           additional_fare  duration  meter_waiting  meter_waiting_fare  \\\n",
              "tripid                                                                    \n",
              "213284604             10.5       924             42              2.4486   \n",
              "213286352             10.5      4249             20              0.0000   \n",
              "213293973             10.5      1552            255              2.6588   \n",
              "213294622             10.5       462             16              0.0000   \n",
              "213298687             10.5       814            392             12.3692   \n",
              "\n",
              "              fare   distance  \n",
              "tripid                         \n",
              "213284604   289.27   1.536052  \n",
              "213286352  1912.70  12.990640  \n",
              "213293973   394.00   5.690729  \n",
              "213294622   154.32   0.585046  \n",
              "213298687   147.47   2.408311  "
            ]
          },
          "metadata": {
            "tags": []
          },
          "execution_count": 34
        }
      ]
    },
    {
      "cell_type": "code",
      "metadata": {
        "id": "Yv7BTPsxATyZ",
        "colab_type": "code",
        "colab": {
          "base_uri": "https://localhost:8080/",
          "height": 34
        },
        "outputId": "e412fff9-c0f0-47b0-877e-912c427368ee"
      },
      "source": [
        "test_df.shape"
      ],
      "execution_count": null,
      "outputs": [
        {
          "output_type": "execute_result",
          "data": {
            "text/plain": [
              "(8576, 6)"
            ]
          },
          "metadata": {
            "tags": []
          },
          "execution_count": 35
        }
      ]
    },
    {
      "cell_type": "markdown",
      "metadata": {
        "id": "eY_pObBV7a79",
        "colab_type": "text"
      },
      "source": [
        "4.Predicting Results\n",
        "\n"
      ]
    },
    {
      "cell_type": "code",
      "metadata": {
        "id": "FViwFxHE76un",
        "colab_type": "code",
        "colab": {}
      },
      "source": [
        "result = pipe.predict(test_df)\n",
        "test_df['prediction'] = result"
      ],
      "execution_count": null,
      "outputs": []
    },
    {
      "cell_type": "code",
      "metadata": {
        "id": "kbB-dRzu8lJt",
        "colab_type": "code",
        "colab": {}
      },
      "source": [
        "submission_df = test_df.drop(['additional_fare','distance','duration','fare','meter_waiting','meter_waiting_fare'],axis='columns')"
      ],
      "execution_count": null,
      "outputs": []
    },
    {
      "cell_type": "code",
      "metadata": {
        "id": "TUMlM1Tu-BGt",
        "colab_type": "code",
        "colab": {
          "base_uri": "https://localhost:8080/"
        },
        "outputId": "f20df198-38d8-497e-c95f-bb251c5e6dcf"
      },
      "source": [
        "submission_df.head()"
      ],
      "execution_count": null,
      "outputs": [
        {
          "output_type": "execute_result",
          "data": {
            "text/html": [
              "<div>\n",
              "<style scoped>\n",
              "    .dataframe tbody tr th:only-of-type {\n",
              "        vertical-align: middle;\n",
              "    }\n",
              "\n",
              "    .dataframe tbody tr th {\n",
              "        vertical-align: top;\n",
              "    }\n",
              "\n",
              "    .dataframe thead th {\n",
              "        text-align: right;\n",
              "    }\n",
              "</style>\n",
              "<table border=\"1\" class=\"dataframe\">\n",
              "  <thead>\n",
              "    <tr style=\"text-align: right;\">\n",
              "      <th></th>\n",
              "      <th>prediction</th>\n",
              "    </tr>\n",
              "    <tr>\n",
              "      <th>tripid</th>\n",
              "      <th></th>\n",
              "    </tr>\n",
              "  </thead>\n",
              "  <tbody>\n",
              "    <tr>\n",
              "      <th>213284604</th>\n",
              "      <td>1</td>\n",
              "    </tr>\n",
              "    <tr>\n",
              "      <th>213286352</th>\n",
              "      <td>0</td>\n",
              "    </tr>\n",
              "    <tr>\n",
              "      <th>213293973</th>\n",
              "      <td>1</td>\n",
              "    </tr>\n",
              "    <tr>\n",
              "      <th>213294622</th>\n",
              "      <td>1</td>\n",
              "    </tr>\n",
              "    <tr>\n",
              "      <th>213298687</th>\n",
              "      <td>1</td>\n",
              "    </tr>\n",
              "  </tbody>\n",
              "</table>\n",
              "</div>"
            ],
            "text/plain": [
              "           prediction\n",
              "tripid               \n",
              "213284604           1\n",
              "213286352           0\n",
              "213293973           1\n",
              "213294622           1\n",
              "213298687           1"
            ]
          },
          "metadata": {
            "tags": []
          },
          "execution_count": 39
        }
      ]
    },
    {
      "cell_type": "markdown",
      "metadata": {
        "id": "r_IO_KxS7itW",
        "colab_type": "text"
      },
      "source": [
        "5.Write Generated csv file  to the drive"
      ]
    },
    {
      "cell_type": "code",
      "metadata": {
        "id": "yXdcTLLN-DMz",
        "colab_type": "code",
        "colab": {}
      },
      "source": [
        "submission_df.to_csv(data_path +'submission.csv', index=True)"
      ],
      "execution_count": null,
      "outputs": []
    }
  ]
}